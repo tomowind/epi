{
 "cells": [
  {
   "cell_type": "markdown",
   "metadata": {},
   "source": [
    "# Graphs\n",
    "\n",
    "그래프는 정말 어려운 주제이고 많은 내용이 연관이 되어있습니다. 기본적인 내용만 살펴보면요.\n",
    "\n",
    "- 그래프를 구성하는 방법에서부터 *adjacency list*, *adjacency matrix* 를 둘 수가 있구요. \n",
    "- 그래프 데이터베이스를 구성할 때에는 더 어렵습니다. *(V, E, V)* 의 triple notation 으로 구성하던지, *edge*, *node*의 형태로 따로 구성할 수가 있습니다.\n",
    "- 그래프의 방향성이 있냐 없냐에 따라서 *direct graph*, *undirect graph* 를 둘 수가 있구요. \n",
    "- 연결됨의 방식에 따라 *strongly connected components*, *weakly connected components*를 찾아볼 수 있구요.\n",
    "- 방향성이 없으며 cycle이 없는 애들을 *tree*, *forest* 라고 부르기도 하죠. 이런 애들을 찾는 재밌는 알고리즘 중에 하나가 *minimum spanning tree* 입니다.\n",
    "- 방향성이 있는 애들의 줄을 세우는 것을 *topological sort* 라고 합니다.\n",
    "- 그래프에서 node, edge를 읽는 방법이 여러가지가 있는데요. 물론 효율적으로요. 가장 간단하게는 *BFS*, *DFS*가 있구요. *shortest path* 찾는것도 재밌고, *maximum flow* 도 재밌습니다."
   ]
  },
  {
   "cell_type": "markdown",
   "metadata": {},
   "source": [
    "## 그래프 표현 방식\n",
    "\n",
    "이번장에 있는 문제들은 **adjancency list** 방식을 사용합니다:\n",
    "- `class GraphVertex`로 모든것을 해결합니다. 그리고, `List[GraphVertex]`로 그래프를 표현하죠.\n",
    "- 리스트 문제들이 `class List`로 표현되는 것과 같은 이치죠.\n",
    "\n",
    "```python\n",
    "class GraphVertex:\n",
    "    def __init__(self) -> None:\n",
    "        self.label = label\n",
    "        self.edges: List['GraphVertex'] = []\n",
    "```"
   ]
  },
  {
   "cell_type": "markdown",
   "metadata": {},
   "source": [
    "## BFS vs DFS\n",
    "\n",
    "Graph search 에 있어서 가장 간단한 알고리즘들입니다. 18장과 leetcode에 가장 많이 있는 문제들이구요.\n",
    "\n",
    "### How they work?\n",
    "\n",
    "Depth를 따라서 먼저 찾아보느냐, Breadth를 우선시해서 찾아보느냐의 차이일 뿐이죠. 자세한 구현은 아래 예제들이나 인터넷을 참고하세요.\n",
    "- DFS는 먼저 깊이를 가기에 stack을 사용합니다. 명시적으로 stack을 사용해서 node를 탐색하던, recursion을 사용하면 됩니다.\n",
    "- BFS는 먼저 가까운 모든 노드들을 가기에 queue를 사용하여 iterative한 구현을 하면 됩니다.\n",
    "\n",
    "### Complexity\n",
    "\n",
    "복잡도는 항상 같습니다. 외워두세요.\n",
    "- Time Complexity: O(V + E)\n",
    "- Space Complexity: O(V)\n",
    "\n",
    "### Application\n",
    "\n",
    "- DFS: **Looking for cycles**, **Looking for connected components**\n",
    "- BFS: **Optimization**, **Finding path quickly**"
   ]
  },
  {
   "cell_type": "markdown",
   "metadata": {},
   "source": [
    "## 18.0 Can Team A beat Team B?\n",
    "\n",
    "- 문제: 스포츠 경기에서 여러팀들의 경기 결과가 있다. 예들들어, A beats B, B beats C, C beats D... 이런식이다. 임의의 팀 A, B에 대해서 A > C > ... > B 의 형태인 transitively relative besting 을 어떻게 찾을까? 결과를 T/F로 리턴하자.\n",
    "- 타입: **BFS/DFS (basic search)**\n",
    "- 복잡도: O(V+E) for Time, O(V) for Space"
   ]
  },
  {
   "cell_type": "code",
   "execution_count": 1,
   "metadata": {},
   "outputs": [],
   "source": [
    "import collections\n",
    "\n",
    "MatchResult = collections.namedtuple('MatchResult', ('winning_team', 'losing_team'))\n",
    "\n",
    "\n",
    "def can_tam_a_beat_team_b(matches, team_a, team_b):\n",
    "    def build_graph():\n",
    "        g = collections.defaultdict(set)\n",
    "        for match in matches:\n",
    "            g[match.winning_team].add(match.losing_team)\n",
    "        return g\n",
    "    \n",
    "    def dfs(g, curr, dest, visited=set()):\n",
    "        if curr == dest:\n",
    "            return True\n",
    "        elif curr in visited or curr not in graph:\n",
    "            return False\n",
    "        visited.add(curr)\n",
    "        return any(dfs(g, team, dest, visited) for team in graph[curr])\n",
    "    \n",
    "    return dfs(build_graph(), team_a, team_b)"
   ]
  },
  {
   "cell_type": "markdown",
   "metadata": {},
   "source": [
    "## 18.4 Deadlock Detection\n",
    "\n",
    "- 문제: deadlock은 여러 lock들간에 cycle이 생겨서 발생할 수 있다. 주어진 그래프 g 에서 사이클이 있는지 확인하는 프로그램을 짜라.\n",
    "- 타입: **DFS with marking (looking for cycles)**\n",
    "- 힌트: 일반적인 DFS로는 안된다. Marking 을 3가지 타입으로 해야한다 (처음 방문, 방문중, 방문 끝)\n",
    "    - WHITE: 처음방문\n",
    "    - GRAY: 방문중\n",
    "    - BLACK: 방문끝\n",
    "- 복잡도: O(V+E) for Time, O(V) for Space"
   ]
  },
  {
   "cell_type": "code",
   "execution_count": 2,
   "metadata": {},
   "outputs": [],
   "source": [
    "from typing import List\n",
    "\n",
    "\n",
    "class GraphVertex:\n",
    "    WHITE, GRAY, BLACK = range(3)\n",
    "    \n",
    "    def __init__(self) -> None:\n",
    "        self.color = GraphVertex.WHITE\n",
    "        self.edges: List['GraphVertex'] = []\n",
    "            \n",
    "            \n",
    "def is_deadlocked(graph: List[GraphVertex]) -> bool:\n",
    "    def has_cycle(curr):\n",
    "        if curr == GraphVertex.GRAY:\n",
    "            return True\n",
    "        \n",
    "        curr.color = GraphVertex.GRAY\n",
    "        if any(nxt.color != GraphVertex.BLACK and has_cycle(nxt)\n",
    "               for nxt in cur.edges):\n",
    "            return True\n",
    "        curr.color = GraphVertex.BLACK\n",
    "        return False\n",
    "    \n",
    "    return any(vertex.color == GraphVertex.WHITE and has_cycle(vertex)\n",
    "               for vertex in graph)"
   ]
  },
  {
   "cell_type": "markdown",
   "metadata": {},
   "source": [
    "## 18.5 Clone a Graph\n",
    "\n",
    "- 문제: Digraph를 어떻게 clone하냐?\n",
    "- 타입: **BFS/DFS (navigate graph with map)**\n",
    "- 복잡도: O(V+E) for Time, O(V) for Space"
   ]
  },
  {
   "cell_type": "code",
   "execution_count": 3,
   "metadata": {},
   "outputs": [],
   "source": [
    "from typing import List\n",
    "import collections\n",
    "\n",
    "\n",
    "class GraphVertex:\n",
    "    def __init__(self) -> None:\n",
    "        self.label = label\n",
    "        self.edges: List['GraphVertex'] = []\n",
    "\n",
    "            \n",
    "def clone_graph(graph: GraphVertex) -> GraphVertex:\n",
    "    if graph is None:\n",
    "        return None\n",
    "    \n",
    "    q = collections.deque([graph])\n",
    "    vertex_map = {graph: GraphVertex(graph.label)}\n",
    "    while q:\n",
    "        v = q.popleft()\n",
    "        for e in v.edges:\n",
    "            if e not in vertex_map:\n",
    "                vertex_map[e] = GraphVertex(e.label)\n",
    "                q.append(e)\n",
    "            vertex_map[v].edges.append(vertex_map[e])\n",
    "    return vertex_map[graph]"
   ]
  },
  {
   "cell_type": "markdown",
   "metadata": {},
   "source": [
    "## 18.6 Making Wired Connections\n",
    "\n",
    "- 문제: PCB 빵판이 있고, 각핀을 두개의 색으로만 칠할 수 있다. 핀의 연결을 다른 색으로만 가능하다고 할때, 이 그래프가 제대로 구성된것인지 체크하라.\n",
    "- 타입: **BFS, Bi-partite graph**\n",
    "- 복잡도: O(V+E) for Time, O(V) for Space"
   ]
  },
  {
   "cell_type": "code",
   "execution_count": 4,
   "metadata": {},
   "outputs": [],
   "source": [
    "from typing import List\n",
    "import collections\n",
    "\n",
    "\n",
    "class GraphVertex:\n",
    "    def __init__(self) -> None:\n",
    "        self.edges: List['GraphVertex'] = []\n",
    "\n",
    "\n",
    "def is_placement_feasible(graph: List[GraphVertex]) -> bool:\n",
    "    placements = collections.defaultdict(set)\n",
    "    \n",
    "    def bfs(v: GraphVertex):\n",
    "        \"\"\"한 트리에 대해서 WHITE, BLACK을 다 assign 해줌\"\"\"\n",
    "        if v in placements['WHITE'] or v in placements['BLACK']:\n",
    "            return True\n",
    "        \n",
    "        q = collections.deque([v])\n",
    "        placements['WHITE'].add(v)\n",
    "        \n",
    "        while q:\n",
    "            curr = q.popleft()\n",
    "            curr_color = 'WHITE' if curr in placements['WHITE'] else 'BLACK'\n",
    "            next_color = 'WHITE' if curr_color == 'WHITE' else 'BLACK'\n",
    "            for n in curr.edges:\n",
    "                if n in placements[curr_color]:\n",
    "                    return False\n",
    "                elif n not in placements[next_color]:\n",
    "                    placements[next_color].add(n)\n",
    "                    q.append(n)\n",
    "        return True\n",
    "    return all(bfs(v) for v in graph)"
   ]
  },
  {
   "cell_type": "markdown",
   "metadata": {},
   "source": [
    "## 18.7 Word Ladder\n",
    "\n",
    "Leetcode [127. Word Ladder](https://leetcode.com/problems/word-ladder/), [126. Word Ladder II](https://leetcode.com/problems/word-ladder-ii/) 에 있는 문제들입니다. 첫문제는 가능한 경우 가장 짧은 변환 숫자를 반환하는 것이고, 두번째 문제는 변환 가능한 모든 리스트를 반환하는 문제입니다.\n",
    "\n",
    "- 문제: 사전이 주어져있고, 시작단어, 끝단어가 있다. 단어에서 매 턴마다 한글자를 바꿀수가 있다. 사전에 그 단어가 있으면 그 턴에서 다음 단어로 넘어간다. 그랬을때에 시작 단어에서 끝 단어까지 갈 수 있는가? 가능하면 가장 짧게 몇번만에 갈 수 있는가?\n",
    "- 타입: **BFS (finding path quickly)**\n",
    "- 풀이방법:\n",
    "    - 내방법: 아래의 코드는 사전을 우선적으로 preprocessing 함\n",
    "    - 책방법: 매턴마다 단어에서 새 단어를 만들어냄. 그럼, 매턴마다 (length of word) * (26 characters) 연산을 해야함.\n",
    "- 복잡도:\n",
    "    - V = number of words in dictionary\n",
    "    - E = V\\*V in the worst case\n",
    "    - 내방법: O($V$) for space, O($V+E$) = O($V^2$) for time\n",
    "    - 책방법: O($V$) for space, O($V+E$) = O($V^2$) for time"
   ]
  },
  {
   "cell_type": "code",
   "execution_count": 5,
   "metadata": {},
   "outputs": [],
   "source": [
    "from typing import List\n",
    "import collections\n",
    "\n",
    "\n",
    "def ladder_length(beginWord: str, endWord: str, wordList: List[str]) -> int:\n",
    "    if not wordList:\n",
    "        return 0\n",
    "\n",
    "    word_len = len(wordList[0])\n",
    "    word_dict = collections.defaultdict(list)\n",
    "    for word in wordList:\n",
    "        for i in range(word_len):\n",
    "            word_dict['_'.join([word[:i], word[i+1:]])].append(word)\n",
    "    visited = {beginWord}\n",
    "    queue = collections.deque([(beginWord, 1)])\n",
    "\n",
    "    while queue:\n",
    "        word, count = queue.popleft()\n",
    "        if word == endWord:\n",
    "            return count\n",
    "        for i in range(word_len):\n",
    "            next_cand = '_'.join([word[:i], word[i+1:]])\n",
    "            if next_cand in word_dict:\n",
    "                next_words = [word for word in word_dict[next_cand] if word not in visited]\n",
    "                if next_words:\n",
    "                    visited.update(next_words)\n",
    "                    queue.extend([(word, count+1) for word in next_words])\n",
    "\n",
    "    return 0"
   ]
  },
  {
   "cell_type": "code",
   "execution_count": 6,
   "metadata": {},
   "outputs": [],
   "source": [
    "assert ladder_length('hit', 'cog', [\"hot\",\"dot\",\"dog\",\"lot\",\"log\",\"cog\"]) == 5\n",
    "assert ladder_length('hit', 'cog', [\"hot\",\"dot\",\"dog\",\"lot\",\"log\"]) == 0"
   ]
  },
  {
   "cell_type": "markdown",
   "metadata": {},
   "source": [
    "## 18.8 Team Photo Day 2\n",
    "\n",
    "- 문제: 18.0의 경기에 이기는 순서를 정하는 문제와 비슷하다. 단, \"가장 긴\" 리스트를 찾는것이다. 그러려면 BFS, DFS를 사용해서 모든 path를 탐색한 후에 가장 긴 path를 반환하면 된다.\n",
    "- 타입: **Topological sort (finding paths)**\n",
    "- 복잡도: O(V+E) for Time, O(V) for Space"
   ]
  },
  {
   "cell_type": "code",
   "execution_count": 7,
   "metadata": {},
   "outputs": [],
   "source": [
    "from typing import List\n",
    "import collections\n",
    "\n",
    "\n",
    "class GraphVertex:\n",
    "    def __init__(self) -> None:\n",
    "        self.max_depth = 0\n",
    "        self.edges: List['GraphVertex'] = []\n",
    "\n",
    "\n",
    "def find_largest_number_of_teams(graph: List[GraphVertex]) -> int:\n",
    "    def dfs(curr: GraphVertex) -> int:\n",
    "        curr.max_depth = max((curr.max_depth if curr.max_depth > 0 else max(dfs(losers)) + 1\n",
    "                              for losers in curr.edges), default=1)\n",
    "        return curr.max_depth\n",
    "    \n",
    "    return max(dfs(team) for team in graph)"
   ]
  },
  {
   "cell_type": "markdown",
   "metadata": {},
   "source": [
    "## TODO: Advanced Graph Algorithms\n",
    "\n",
    "- adjancency list, matrix\n",
    "- Bi-partite graphs\n",
    "- Topological sort\n",
    "- Strongly/weakly connected components\n",
    "- Shortest path\n",
    "- Minimum spanning tree\n",
    "- Matching\n",
    "- Maximum flow"
   ]
  }
 ],
 "metadata": {
  "kernelspec": {
   "display_name": "Python 3",
   "language": "python",
   "name": "python3"
  },
  "language_info": {
   "codemirror_mode": {
    "name": "ipython",
    "version": 3
   },
   "file_extension": ".py",
   "mimetype": "text/x-python",
   "name": "python",
   "nbconvert_exporter": "python",
   "pygments_lexer": "ipython3",
   "version": "3.7.3"
  }
 },
 "nbformat": 4,
 "nbformat_minor": 2
}
