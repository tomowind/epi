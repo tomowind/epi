{
 "cells": [
  {
   "cell_type": "markdown",
   "metadata": {},
   "source": [
    "# Parallel Computing"
   ]
  },
  {
   "cell_type": "markdown",
   "metadata": {},
   "source": [
    "## 19.0 Semaphore\n",
    "\n",
    "[semaphore는 threading 패키지에 이미 존재](https://docs.python.org/3/library/threading.html#semaphore-objects)하지만, 시험 문제로 나올만한 것이죠. \n",
    "\n",
    "- 문제: semaphore를 구현하라.\n",
    "- 솔루션: condition + counter variable 을 사용하면 됩니다. counter variable 이 max 내에 있을 경우에는 사용하도록 해주고, 아니면 wait/notify를 해주면 되죠. 명심할 것은 condition은 항상 이 이디엄으로 사용해야 한다는 것입니다.\n",
    "\n",
    "```python\n",
    "# in a thread trying to acquire, check this condition\n",
    "with cond:\n",
    "    while condition_not_met:\n",
    "        cond.wait()\n",
    "```\n",
    "\n",
    "```python\n",
    "# in another thread holding the lock, when finishing the work\n",
    "counter -= 1\n",
    "with cond:\n",
    "    cond.notify()\n",
    "```"
   ]
  },
  {
   "cell_type": "code",
   "execution_count": 1,
   "metadata": {},
   "outputs": [
    {
     "name": "stdout",
     "output_type": "stream",
     "text": [
      "random work\n"
     ]
    }
   ],
   "source": [
    "import threading\n",
    "\n",
    "\n",
    "class Semaphore:\n",
    "    def __init__(self, max_concurrent):\n",
    "        self.max_concurrent = max_concurrent\n",
    "        self.cond = threading.Condition()\n",
    "        self.counter = 0\n",
    "        \n",
    "    def acquire(self):\n",
    "        with self.cond:\n",
    "            while self.counter == self.max_concurrent:\n",
    "                self.cond.wait()\n",
    "            self.counter += 1\n",
    "            \n",
    "    def release(self):\n",
    "        with self.cond:\n",
    "            self.counter -= 1\n",
    "            self.cond.notify()\n",
    "            \n",
    "    def __enter__(self):\n",
    "        self.acquire()\n",
    "        \n",
    "    def __exit__(self, *exc):\n",
    "        self.release()\n",
    "        \n",
    "## User\n",
    "sem = Semaphore(5)\n",
    "\n",
    "with sem:\n",
    "    print('random work')"
   ]
  },
  {
   "cell_type": "markdown",
   "metadata": {},
   "source": [
    "## 19.3 Implement synchronization for two interleaving threads\n",
    "\n",
    "- 문제: thread 두개로 1~100까지 출력하고 싶다. t1 은 홀수만, t2 는 짝수만 출력하게 만들 때, 순서대로 출력할 수 있을까?\n",
    "- 솔루션: condition을 잘 쓰는 것이 관건. t1은 condition이 홀수일 때만 사용하고, t2는 condition이 짝수일 때만 사용하도록 만든다. 역시나 `while-idiom`을 잘 쓰면 된다.\n",
    "\n",
    "```python\n",
    "while need_to_print_more_numbers:\n",
    "    with cond:\n",
    "        while is_not_odd:\n",
    "            cond.wait()\n",
    "    print('odd number')\n",
    "    with cond:\n",
    "        cond.notify()\n",
    "```"
   ]
  },
  {
   "cell_type": "code",
   "execution_count": 2,
   "metadata": {},
   "outputs": [
    {
     "name": "stdout",
     "output_type": "stream",
     "text": [
      "1\n",
      "2\n",
      "3\n",
      "4\n",
      "5\n",
      "6\n",
      "7\n",
      "8\n",
      "9\n"
     ]
    }
   ],
   "source": [
    "from threading import Thread, Condition\n",
    "\n",
    "\n",
    "class MyCondition(Condition):\n",
    "    def __init__(self):\n",
    "        super().__init__()\n",
    "        self.odd = True\n",
    "        \n",
    "    def wait_odd(self):\n",
    "        with self:\n",
    "            while not self.odd:\n",
    "                self.wait()\n",
    "            \n",
    "    def wait_even(self):\n",
    "        with self:\n",
    "            while self.odd:\n",
    "                self.wait()            \n",
    "            \n",
    "    def toggle_turn(self):\n",
    "        with self:\n",
    "            self.odd ^= True\n",
    "            self.notify()\n",
    "\n",
    "cond = MyCondition()\n",
    "        \n",
    "def print_odd():\n",
    "    for i in range(1, 11, 2):\n",
    "        cond.wait_odd()\n",
    "        print(i)\n",
    "        cond.toggle_turn()\n",
    "        \n",
    "def print_even():\n",
    "    for i in range(2, 11, 2):\n",
    "        cond.wait_even()\n",
    "        print(i)\n",
    "        cond.toggle_turn()\n",
    "        \n",
    "t1 = Thread(target=print_odd)\n",
    "t2 = Thread(target=print_even)\n",
    "t1.start()\n",
    "t2.start()"
   ]
  },
  {
   "cell_type": "markdown",
   "metadata": {},
   "source": [
    "## 19.6 The readers-writers problem\n",
    "\n",
    "- 문제: reader, writer 가 있다.\n",
    "    - reader는 읽는 애들만 있으며 언제나 동시에 사용이 가능하다.\n",
    "    - reader는 writer가 사용하려고 하면 기다려야 한다.\n",
    "    - writer는 자기가 독점적으로 사용할때까지 기다려야 한다. (즉, 다른 모든 reader, writer 가 일을 멈추어야 시작)\n",
    "- 솔루션: condition 을 한개 쓰는 버전, 두개 쓰는 버전이 있다.\n",
    "    - version 1: readers, writers_pending, writers 카운터를 써서 관리\n",
    "    - version 2: lock_read, lock_write 락들과 readers 카운터를 써서 관리"
   ]
  },
  {
   "cell_type": "code",
   "execution_count": 3,
   "metadata": {},
   "outputs": [
    {
     "name": "stdout",
     "output_type": "stream",
     "text": [
      "10\n"
     ]
    }
   ],
   "source": [
    "import threading\n",
    "\n",
    "class ReadWriteLockV1(threading.Condition):\n",
    "    def __init__(self):\n",
    "        self.readers = 0\n",
    "        self.writers = 0\n",
    "        self.writers_pending = 0\n",
    "    \n",
    "    def read_acquire(self):\n",
    "        with self:\n",
    "            while self.writers > 0 or self.writers_pending > 0:\n",
    "                self.wait()\n",
    "            self.readers += 1\n",
    "    \n",
    "    def read_release(self):\n",
    "        with self:\n",
    "            self.readers -= 1\n",
    "            self.notify()\n",
    "    \n",
    "    def write_acquire(self):\n",
    "        with self:\n",
    "            self.writers_pending += 1\n",
    "            while self.writers > 0 or self.readers > 0:\n",
    "                self.wait()\n",
    "            self.writers_pending -= 1\n",
    "            self.writers += 1\n",
    "    \n",
    "    def write_release(self):\n",
    "        with self:\n",
    "            self.writers -= 1\n",
    "            self.notify()"
   ]
  },
  {
   "cell_type": "code",
   "execution_count": 4,
   "metadata": {},
   "outputs": [],
   "source": [
    "import threading\n",
    "\n",
    "class ReadWriteLockV2:\n",
    "    def __init__(self):\n",
    "        self.readers = 0\n",
    "        self.lock_read = threading.Condition()\n",
    "        self.lock_write = threading.RLock()\n",
    "    \n",
    "    def read_acquire(self):\n",
    "        with self.lock_write:\n",
    "            pass\n",
    "        with self.lock_read:\n",
    "            self.readers += 1\n",
    "    \n",
    "    def read_release(self):\n",
    "        with self.lock_read:\n",
    "            self.readers -= 1\n",
    "            self.lock_read.notify()\n",
    "    \n",
    "    def write_acquire(self):\n",
    "        self.lock_write.acquire()\n",
    "        with self.lock_read:\n",
    "            while self.readers > 0:\n",
    "                self.lock_read.wait()\n",
    "            self.readers += 1\n",
    "    \n",
    "    def write_release(self):\n",
    "        with self.lock_read:\n",
    "            self.readers -= 1\n",
    "            self.lock_read.notify()\n",
    "        self.lock_write.release()"
   ]
  }
 ],
 "metadata": {
  "kernelspec": {
   "display_name": "Python 3",
   "language": "python",
   "name": "python3"
  },
  "language_info": {
   "codemirror_mode": {
    "name": "ipython",
    "version": 3
   },
   "file_extension": ".py",
   "mimetype": "text/x-python",
   "name": "python",
   "nbconvert_exporter": "python",
   "pygments_lexer": "ipython3",
   "version": "3.7.3"
  }
 },
 "nbformat": 4,
 "nbformat_minor": 2
}
